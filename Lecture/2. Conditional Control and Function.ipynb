{
 "cells": [
  {
   "cell_type": "markdown",
   "metadata": {},
   "source": [
    "# <center> Loop, Conditional Control and Function"
   ]
  },
  {
   "cell_type": "markdown",
   "metadata": {},
   "source": [
    "<img src = \"https://github.com/saeed-saffari/UT-workshop-sum2021/blob/main/Lecture/PIC/Loops-in-Python.png?raw=true\" >"
   ]
  },
  {
   "cell_type": "markdown",
   "metadata": {},
   "source": [
    "# <center> Loop and Conditional Control \n",
    "## for"
   ]
  },
  {
   "cell_type": "code",
   "execution_count": 4,
   "metadata": {},
   "outputs": [
    {
     "name": "stdout",
     "output_type": "stream",
     "text": [
      "1\n",
      "2\n",
      "5\n",
      "8\n",
      "12\n",
      "48\n"
     ]
    }
   ],
   "source": [
    "for num in [1,2,5,8,12,48]:\n",
    "    print(num)"
   ]
  },
  {
   "cell_type": "code",
   "execution_count": null,
   "metadata": {},
   "outputs": [],
   "source": [
    "for ... in ...:\n",
    "    ...\n",
    "    ...\n",
    "    ..."
   ]
  },
  {
   "cell_type": "code",
   "execution_count": 7,
   "metadata": {},
   "outputs": [
    {
     "name": "stdout",
     "output_type": "stream",
     "text": [
      "['Saeed', 'Yalda', 'Sajjad', 'Hadise', 'javad']\n"
     ]
    }
   ],
   "source": [
    "users = ['Saeed', 'Yalda', 'Sajjad', 'Hadise', 'javad']\n",
    "print(users)"
   ]
  },
  {
   "cell_type": "code",
   "execution_count": 8,
   "metadata": {},
   "outputs": [
    {
     "data": {
      "text/plain": [
       "'Yalda'"
      ]
     },
     "execution_count": 8,
     "metadata": {},
     "output_type": "execute_result"
    }
   ],
   "source": [
    "users[1]"
   ]
  },
  {
   "cell_type": "code",
   "execution_count": 11,
   "metadata": {},
   "outputs": [
    {
     "name": "stdout",
     "output_type": "stream",
     "text": [
      "Saeed\n",
      "Yalda\n",
      "Sajjad\n",
      "Hadise\n",
      "javad\n"
     ]
    }
   ],
   "source": [
    "for i in users:\n",
    "    print(i)"
   ]
  },
  {
   "cell_type": "code",
   "execution_count": 18,
   "metadata": {},
   "outputs": [
    {
     "name": "stdout",
     "output_type": "stream",
     "text": [
      "Hi\n",
      "Saeed\n",
      "Hi\n",
      "Yalda\n",
      "Hi\n",
      "Sajjad\n",
      "Hi\n",
      "Hadise\n",
      "Hi\n",
      "javad\n",
      "Bye\n"
     ]
    }
   ],
   "source": [
    "for user in users:\n",
    "    print('Hi')\n",
    "    print(user)\n",
    "print('Bye')"
   ]
  },
  {
   "cell_type": "code",
   "execution_count": 20,
   "metadata": {},
   "outputs": [
    {
     "name": "stdout",
     "output_type": "stream",
     "text": [
      "Hi\n",
      "Welcome, Saeed!\n",
      "Hi\n",
      "Welcome, Yalda!\n",
      "Hi\n",
      "Welcome, Sajjad!\n",
      "Hi\n",
      "Welcome, Hadise!\n",
      "Hi\n",
      "Welcome, javad!\n",
      "Welcome, We are glad to see all here!\n"
     ]
    }
   ],
   "source": [
    "for user in users:\n",
    "    print('Hi')\n",
    "    print(\"Welcome, \" + user + \"!\")\n",
    "print('Welcome, We are glad to see all here!')"
   ]
  },
  {
   "cell_type": "code",
   "execution_count": 22,
   "metadata": {},
   "outputs": [
    {
     "name": "stdout",
     "output_type": "stream",
     "text": [
      "1\n",
      "25\n",
      "36\n",
      "196\n",
      "729\n"
     ]
    }
   ],
   "source": [
    "for i in [1,5,6,14,27]:\n",
    "    print(i*i)"
   ]
  },
  {
   "cell_type": "code",
   "execution_count": 24,
   "metadata": {},
   "outputs": [
    {
     "name": "stdout",
     "output_type": "stream",
     "text": [
      "P\n",
      "Y\n",
      "T\n",
      "H\n",
      "O\n",
      "N\n",
      " \n",
      "C\n",
      "O\n",
      "U\n",
      "R\n",
      "S\n",
      "E\n"
     ]
    }
   ],
   "source": [
    "for i in 'Python Course':\n",
    "    print(i.upper())"
   ]
  },
  {
   "cell_type": "code",
   "execution_count": 26,
   "metadata": {},
   "outputs": [
    {
     "data": {
      "text/plain": [
       "[3, 4, 5, 6, 7, 8, 9]"
      ]
     },
     "execution_count": 26,
     "metadata": {},
     "output_type": "execute_result"
    }
   ],
   "source": [
    "list(range(3,10))"
   ]
  },
  {
   "cell_type": "code",
   "execution_count": null,
   "metadata": {},
   "outputs": [],
   "source": [
    "for i in range(3,10):\n",
    "    print(i)"
   ]
  },
  {
   "cell_type": "code",
   "execution_count": 39,
   "metadata": {},
   "outputs": [
    {
     "name": "stdout",
     "output_type": "stream",
     "text": [
      "[1, 2, 3, 4, 5, 6, 7, 8, 9, 10, 11, 12, 13, 14, 15, 16, 17, 18, 19]\n",
      "[1, 4, 9, 16, 25, 36, 49, 64, 81, 100, 121, 144, 169, 196, 225, 256, 289, 324, 361]\n"
     ]
    }
   ],
   "source": [
    "squares = []\n",
    "for j in range(1, 20):\n",
    "    square = j**2\n",
    "    squares.append(square)\n",
    "    #squares.append(j**2)    # second solution\n",
    "\n",
    "print(list(range(1,20)))\n",
    "print(squares)"
   ]
  },
  {
   "cell_type": "code",
   "execution_count": 30,
   "metadata": {},
   "outputs": [
    {
     "name": "stdout",
     "output_type": "stream",
     "text": [
      "1\n",
      "4\n",
      "9\n",
      "16\n",
      "25\n",
      "36\n",
      "49\n",
      "64\n",
      "81\n",
      "100\n",
      "121\n",
      "144\n",
      "169\n",
      "196\n",
      "225\n",
      "256\n",
      "289\n",
      "324\n",
      "361\n"
     ]
    }
   ],
   "source": [
    "squares = []\n",
    "for j in range(1, 20):\n",
    "    square = j**2\n",
    "    squares.append(square)\n",
    "    print(square)"
   ]
  },
  {
   "cell_type": "code",
   "execution_count": 34,
   "metadata": {},
   "outputs": [
    {
     "name": "stdout",
     "output_type": "stream",
     "text": [
      "1\n",
      "3\n",
      "6\n",
      "10\n",
      "15\n",
      "21\n",
      "28\n",
      "36\n",
      "45\n",
      "55\n"
     ]
    }
   ],
   "source": [
    "list_sum = 0\n",
    "\n",
    "for i in range(1,11):\n",
    "    #print(i)\n",
    "    list_sum = i + list_sum\n",
    "    \n",
    "    print(list_sum)"
   ]
  },
  {
   "cell_type": "code",
   "execution_count": 1,
   "metadata": {},
   "outputs": [
    {
     "name": "stdout",
     "output_type": "stream",
     "text": [
      "Iran\n",
      "USA\n",
      "UK\n"
     ]
    }
   ],
   "source": [
    "for i in {'Iran': 43, 'USA': 12, 'UK': 4}:\n",
    "    print(i)"
   ]
  },
  {
   "cell_type": "markdown",
   "metadata": {},
   "source": [
    "## while (pass, continue, break)"
   ]
  },
  {
   "cell_type": "markdown",
   "metadata": {},
   "source": [
    "<img src = \"https://github.com/saeed-saffari/UT-workshop-sum2021/blob/main/Lecture/PIC/Looping.jpg?raw=true\">"
   ]
  },
  {
   "cell_type": "code",
   "execution_count": 8,
   "metadata": {},
   "outputs": [
    {
     "name": "stdout",
     "output_type": "stream",
     "text": [
      "1\n",
      "2\n",
      "3\n",
      "4\n",
      "5\n",
      "6\n",
      "7\n",
      "8\n",
      "9\n",
      "10\n"
     ]
    }
   ],
   "source": [
    "n = 0\n",
    "while n < 10:\n",
    "    print(n)\n",
    "    #n = n + 1\n",
    "    n += 1"
   ]
  },
  {
   "cell_type": "code",
   "execution_count": 12,
   "metadata": {},
   "outputs": [
    {
     "name": "stdout",
     "output_type": "stream",
     "text": [
      "1\n",
      "0.2\n",
      "0.04\n",
      "0.008\n",
      "0.0016\n",
      "0.00032\n"
     ]
    }
   ],
   "source": [
    "x = 1\n",
    "\n",
    "while x > 1e-4:   # 10 ^ (-4) \n",
    "    print(x)\n",
    "    x = x / 5\n",
    "    #print(x)"
   ]
  },
  {
   "cell_type": "code",
   "execution_count": 14,
   "metadata": {},
   "outputs": [],
   "source": [
    "x = [1,2,4]\n",
    "for item in x:\n",
    "    #comment\n",
    "    pass"
   ]
  },
  {
   "cell_type": "code",
   "execution_count": null,
   "metadata": {},
   "outputs": [],
   "source": []
  },
  {
   "cell_type": "markdown",
   "metadata": {},
   "source": [
    "## if, elif , else"
   ]
  },
  {
   "cell_type": "markdown",
   "metadata": {},
   "source": [
    "<img src = \"https://github.com/saeed-saffari/UT-workshop-sum2021/blob/main/Lecture/PIC/if-else.jpg?raw=true\" width = \"650\">"
   ]
  },
  {
   "cell_type": "code",
   "execution_count": 16,
   "metadata": {},
   "outputs": [
    {
     "data": {
      "text/plain": [
       "False"
      ]
     },
     "execution_count": 16,
     "metadata": {},
     "output_type": "execute_result"
    }
   ],
   "source": [
    "3 < 2"
   ]
  },
  {
   "cell_type": "code",
   "execution_count": 19,
   "metadata": {},
   "outputs": [],
   "source": [
    "if 3 < 2:\n",
    "    print('That is True!')"
   ]
  },
  {
   "cell_type": "code",
   "execution_count": 24,
   "metadata": {},
   "outputs": [
    {
     "name": "stdout",
     "output_type": "stream",
     "text": [
      "Enter your age: 26\n"
     ]
    },
    {
     "data": {
      "text/plain": [
       "26"
      ]
     },
     "execution_count": 24,
     "metadata": {},
     "output_type": "execute_result"
    }
   ],
   "source": [
    "age = int(input('Enter your age: '))\n",
    "age"
   ]
  },
  {
   "cell_type": "code",
   "execution_count": 25,
   "metadata": {},
   "outputs": [
    {
     "data": {
      "text/plain": [
       "int"
      ]
     },
     "execution_count": 25,
     "metadata": {},
     "output_type": "execute_result"
    }
   ],
   "source": [
    "type(age)"
   ]
  },
  {
   "cell_type": "code",
   "execution_count": 27,
   "metadata": {},
   "outputs": [
    {
     "name": "stdout",
     "output_type": "stream",
     "text": [
      "Enter your age: 12\n",
      "You can NOT vote yet!\n"
     ]
    }
   ],
   "source": [
    "age = int(input('Enter your age: '))\n",
    "\n",
    "if age >= 18:\n",
    "    print('You are old enought to vote!')\n",
    "else:\n",
    "    print('You can NOT vote yet!')"
   ]
  },
  {
   "cell_type": "code",
   "execution_count": 29,
   "metadata": {},
   "outputs": [
    {
     "name": "stdout",
     "output_type": "stream",
     "text": [
      "Enter your age: 15\n",
      "You can NOT vote yet!\n",
      "you can will vote after 3 years.\n",
      "you can will vote after 3 years.\n"
     ]
    }
   ],
   "source": [
    "age = int(input('Enter your age: '))\n",
    "\n",
    "if age >= 18:\n",
    "    print('You are old enought to vote!')\n",
    "else:\n",
    "    print('You can NOT vote yet!')\n",
    "    print(\"you can will vote after \" + str(18 - age) + \" years.\")\n",
    "    print(\"you can will vote after {} years.\".format(18 - age))"
   ]
  },
  {
   "cell_type": "code",
   "execution_count": 4,
   "metadata": {},
   "outputs": [
    {
     "name": "stdout",
     "output_type": "stream",
     "text": [
      "Enter your age: 24\n",
      "your cost is $10.\n"
     ]
    }
   ],
   "source": [
    "age = int(input('Enter your age: '))\n",
    "\n",
    "if age <= 4:\n",
    "    price = 0\n",
    "elif age <= 16:\n",
    "    price = 5\n",
    "else:              # elif age > 16:\n",
    "    price = 10\n",
    "    \n",
    "print(\"your cost is ${}.\".format(price))"
   ]
  },
  {
   "cell_type": "code",
   "execution_count": 15,
   "metadata": {},
   "outputs": [
    {
     "name": "stdout",
     "output_type": "stream",
     "text": [
      "Fail\n"
     ]
    }
   ],
   "source": [
    "grade = 'C'\n",
    "\n",
    "if grade == 'A':\n",
    "    print('Well done!')\n",
    "elif grade == 'B':\n",
    "    print('Try more')\n",
    "elif grade == 'C':           #else:\n",
    "    print('Fail')\n",
    "else:\n",
    "    print('Unvalid')"
   ]
  },
  {
   "cell_type": "code",
   "execution_count": 18,
   "metadata": {},
   "outputs": [
    {
     "name": "stdout",
     "output_type": "stream",
     "text": [
      "1 is ODD number!\n",
      "3 is ODD number!\n",
      "4 is EVEN numver!\n",
      "18 is EVEN numver!\n",
      "234 is EVEN numver!\n",
      "547 is ODD number!\n"
     ]
    }
   ],
   "source": [
    "my_list = [1,3,4,18,234,547]\n",
    "\n",
    "for num in my_list:\n",
    "    if num % 2 == 0:\n",
    "        print(num, 'is EVEN numver!')\n",
    "    #else:\n",
    "    #    print('ODD')\n",
    "    elif num % 2 != 0:   # num % 2 == 1\n",
    "        print(num, 'is ODD number!')"
   ]
  },
  {
   "cell_type": "markdown",
   "metadata": {},
   "source": [
    "<img src = \"https://github.com/saeed-saffari/UT-workshop-sum2021/blob/main/Lecture/PIC/whlie%20expr.png?raw=true\" width = \"400\">"
   ]
  },
  {
   "cell_type": "code",
   "execution_count": 20,
   "metadata": {},
   "outputs": [
    {
     "name": "stdout",
     "output_type": "stream",
     "text": [
      "n\n",
      "o\n",
      "h\n",
      "i\n",
      "n\n",
      "g\n"
     ]
    }
   ],
   "source": [
    "mystring = 'nothing'\n",
    "for letter in mystring:\n",
    "    if letter == 't':\n",
    "        continue\n",
    "    print(letter)"
   ]
  },
  {
   "cell_type": "code",
   "execution_count": 23,
   "metadata": {},
   "outputs": [
    {
     "name": "stdout",
     "output_type": "stream",
     "text": [
      "n\n",
      "o\n"
     ]
    }
   ],
   "source": [
    "mystring = 'nothing'\n",
    "for letter in mystring:\n",
    "    if letter == 't':\n",
    "        break\n",
    "    print(letter)"
   ]
  },
  {
   "cell_type": "code",
   "execution_count": 3,
   "metadata": {},
   "outputs": [
    {
     "name": "stdout",
     "output_type": "stream",
     "text": [
      "0\n",
      "1\n",
      "2\n"
     ]
    }
   ],
   "source": [
    "x = 0\n",
    "while x < 5:\n",
    "    if x == 3:\n",
    "        break\n",
    "    print(x)\n",
    "    x += 1"
   ]
  },
  {
   "cell_type": "code",
   "execution_count": null,
   "metadata": {},
   "outputs": [],
   "source": []
  },
  {
   "cell_type": "markdown",
   "metadata": {},
   "source": [
    "## <center> Function"
   ]
  },
  {
   "cell_type": "markdown",
   "metadata": {},
   "source": [
    "<img src = \"https://github.com/saeed-saffari/UT-workshop-sum2021/blob/main/Lecture/PIC/python-functions.gif?raw=true\" width = \"1000\" >"
   ]
  },
  {
   "cell_type": "code",
   "execution_count": null,
   "metadata": {},
   "outputs": [],
   "source": [
    "def test_1():\n",
    "    ...\n",
    "    ...\n",
    "    ...\n",
    "    return ..."
   ]
  },
  {
   "cell_type": "code",
   "execution_count": null,
   "metadata": {},
   "outputs": [],
   "source": [
    "def test_2():\n",
    "    ...\n",
    "    ...\n",
    "    ...\n",
    "    print(...)"
   ]
  },
  {
   "cell_type": "code",
   "execution_count": null,
   "metadata": {},
   "outputs": [],
   "source": [
    "test_1()\n",
    "test_2()"
   ]
  },
  {
   "cell_type": "code",
   "execution_count": null,
   "metadata": {},
   "outputs": [],
   "source": [
    "def test_3(x, y , z):\n",
    "    ...\n",
    "    ...\n",
    "    ...\n",
    "    print(...) # return ..."
   ]
  },
  {
   "cell_type": "code",
   "execution_count": null,
   "metadata": {},
   "outputs": [],
   "source": [
    "test_3(2,45,21)"
   ]
  },
  {
   "cell_type": "code",
   "execution_count": null,
   "metadata": {},
   "outputs": [],
   "source": [
    "def test_4():\n",
    "    ...\n",
    "    ...\n",
    "    ..."
   ]
  },
  {
   "cell_type": "markdown",
   "metadata": {},
   "source": [
    "## - Example"
   ]
  },
  {
   "cell_type": "code",
   "execution_count": 4,
   "metadata": {},
   "outputs": [],
   "source": [
    "def echo(i):\n",
    "    print(i)"
   ]
  },
  {
   "cell_type": "code",
   "execution_count": 5,
   "metadata": {},
   "outputs": [
    {
     "data": {
      "text/plain": [
       "<function __main__.echo(i)>"
      ]
     },
     "execution_count": 5,
     "metadata": {},
     "output_type": "execute_result"
    }
   ],
   "source": [
    "echo"
   ]
  },
  {
   "cell_type": "code",
   "execution_count": 8,
   "metadata": {},
   "outputs": [
    {
     "name": "stdout",
     "output_type": "stream",
     "text": [
      "Salaaam!\n"
     ]
    }
   ],
   "source": [
    "echo(\"Salaaam!\")"
   ]
  },
  {
   "cell_type": "code",
   "execution_count": 10,
   "metadata": {},
   "outputs": [
    {
     "name": "stdout",
     "output_type": "stream",
     "text": [
      "Python Course\n"
     ]
    }
   ],
   "source": [
    "echo('Python Course')"
   ]
  },
  {
   "cell_type": "code",
   "execution_count": 11,
   "metadata": {},
   "outputs": [
    {
     "name": "stdout",
     "output_type": "stream",
     "text": [
      "Salaaam!\n"
     ]
    }
   ],
   "source": [
    "x = echo(\"Salaaam!\")"
   ]
  },
  {
   "cell_type": "code",
   "execution_count": 12,
   "metadata": {},
   "outputs": [
    {
     "name": "stdout",
     "output_type": "stream",
     "text": [
      "None\n"
     ]
    }
   ],
   "source": [
    "print(x)"
   ]
  },
  {
   "cell_type": "code",
   "execution_count": 13,
   "metadata": {},
   "outputs": [],
   "source": [
    "def mean3(x,y,z):\n",
    "    return (x+y+z)/3"
   ]
  },
  {
   "cell_type": "code",
   "execution_count": 14,
   "metadata": {},
   "outputs": [
    {
     "data": {
      "text/plain": [
       "-2.7666666666666657"
      ]
     },
     "execution_count": 14,
     "metadata": {},
     "output_type": "execute_result"
    }
   ],
   "source": [
    "mean3(12, 34, -54.3)"
   ]
  },
  {
   "cell_type": "code",
   "execution_count": 19,
   "metadata": {},
   "outputs": [
    {
     "data": {
      "text/plain": [
       "26.0"
      ]
     },
     "execution_count": 19,
     "metadata": {},
     "output_type": "execute_result"
    }
   ],
   "source": [
    "mean3(12, 34, 32)"
   ]
  },
  {
   "cell_type": "code",
   "execution_count": null,
   "metadata": {},
   "outputs": [],
   "source": []
  },
  {
   "cell_type": "code",
   "execution_count": 15,
   "metadata": {},
   "outputs": [],
   "source": [
    "def mean_3():\n",
    "    first_number = float(input('Enter yout first number: '))\n",
    "    second_number = float(input('Enter yout second number: '))\n",
    "    third_number = float(input('Enter yout third number: '))\n",
    "    \n",
    "    summ = first_number + second_number + third_number\n",
    "    ave = summ / 3\n",
    "    return ave"
   ]
  },
  {
   "cell_type": "code",
   "execution_count": 16,
   "metadata": {},
   "outputs": [
    {
     "name": "stdout",
     "output_type": "stream",
     "text": [
      "Enter yout first number: 23.5\n",
      "Enter yout second number: 65.2\n",
      "Enter yout third number: -34\n"
     ]
    },
    {
     "data": {
      "text/plain": [
       "18.233333333333334"
      ]
     },
     "execution_count": 16,
     "metadata": {},
     "output_type": "execute_result"
    }
   ],
   "source": [
    "mean_3()"
   ]
  },
  {
   "cell_type": "code",
   "execution_count": 21,
   "metadata": {},
   "outputs": [
    {
     "name": "stdout",
     "output_type": "stream",
     "text": [
      "Enter yout first number: 2\n",
      "Enter yout second number: 3\n",
      "Enter yout third number: 4\n"
     ]
    },
    {
     "data": {
      "text/plain": [
       "3.0"
      ]
     },
     "execution_count": 21,
     "metadata": {},
     "output_type": "execute_result"
    }
   ],
   "source": [
    "mean_3()"
   ]
  },
  {
   "cell_type": "code",
   "execution_count": 25,
   "metadata": {},
   "outputs": [
    {
     "name": "stdout",
     "output_type": "stream",
     "text": [
      "Enter your name: Saeed\n",
      "Hello Saeed!\n"
     ]
    }
   ],
   "source": [
    "def hello():\n",
    "    name = input('Enter your name: ')\n",
    "    \n",
    "    if name:\n",
    "        print('Hello ' + name + '!')\n",
    "    else:\n",
    "        print('Hello world!')\n",
    "        \n",
    "hello()"
   ]
  },
  {
   "cell_type": "code",
   "execution_count": 26,
   "metadata": {},
   "outputs": [
    {
     "name": "stdout",
     "output_type": "stream",
     "text": [
      "Enter your age: 25\n",
      "your cost is $10.\n"
     ]
    }
   ],
   "source": [
    "def price():\n",
    "    \n",
    "    age = int(input('Enter your age: '))\n",
    "\n",
    "    if age <= 4:\n",
    "        price = 0\n",
    "    elif age <= 16:\n",
    "        price = 5\n",
    "    else:              # elif age > 16:\n",
    "        price = 10\n",
    "    \n",
    "    print(\"your cost is ${}.\".format(price))\n",
    "    \n",
    "price()"
   ]
  },
  {
   "cell_type": "code",
   "execution_count": null,
   "metadata": {},
   "outputs": [],
   "source": []
  },
  {
   "cell_type": "code",
   "execution_count": 27,
   "metadata": {},
   "outputs": [],
   "source": [
    "# Guess number"
   ]
  },
  {
   "cell_type": "code",
   "execution_count": 42,
   "metadata": {},
   "outputs": [
    {
     "data": {
      "text/plain": [
       "29"
      ]
     },
     "execution_count": 42,
     "metadata": {},
     "output_type": "execute_result"
    }
   ],
   "source": [
    "import random\n",
    "cump_num = random.randint(1, 100)\n",
    "cump_num"
   ]
  },
  {
   "cell_type": "code",
   "execution_count": 43,
   "metadata": {},
   "outputs": [],
   "source": [
    "def guess_number():\n",
    "    user_num = int(input('Enter you guess number: '))\n",
    "    \n",
    "    \n",
    "    while user_num != cump_num:\n",
    "        if user_num > cump_num:\n",
    "            print('Enter a smaller one!')\n",
    "        elif user_num < cump_num:\n",
    "            print('Enter a bigger one!')\n",
    "        \n",
    "        user_num = int(input('Enter you guess number: '))\n",
    "        \n",
    "    print('Well DONE!')"
   ]
  },
  {
   "cell_type": "code",
   "execution_count": 45,
   "metadata": {},
   "outputs": [
    {
     "name": "stdout",
     "output_type": "stream",
     "text": [
      "Enter you guess number: 10\n",
      "Enter a bigger one!\n",
      "Enter you guess number: 45\n",
      "Enter a smaller one!\n",
      "Enter you guess number: 30\n",
      "Enter a smaller one!\n",
      "Enter you guess number: 28\n",
      "Enter a bigger one!\n",
      "Enter you guess number: 29\n",
      "Well DONE!\n"
     ]
    }
   ],
   "source": [
    "guess_number()"
   ]
  },
  {
   "cell_type": "code",
   "execution_count": null,
   "metadata": {},
   "outputs": [],
   "source": []
  },
  {
   "cell_type": "code",
   "execution_count": 46,
   "metadata": {
    "scrolled": true
   },
   "outputs": [
    {
     "name": "stdout",
     "output_type": "stream",
     "text": [
      "Enter your name: Saeed\n",
      "Enter phone number: 09199193216\n",
      "Enter email id: m.saeed1024@yahoo.com\n"
     ]
    },
    {
     "data": {
      "text/plain": [
       "{'Saeed': ('09199193216', 'm.saeed1024@yahoo.com')}"
      ]
     },
     "execution_count": 46,
     "metadata": {},
     "output_type": "execute_result"
    }
   ],
   "source": [
    "# Contact\n",
    "\n",
    "def contact():\n",
    "    contact = {}\n",
    "    \n",
    "    name  = input('Enter your name: ')\n",
    "    phone = input('Enter phone number: ')\n",
    "    email = input('Enter email id: ')\n",
    "    \n",
    "    contact[name] = phone, email\n",
    "    return contact\n",
    "\n",
    "contact()"
   ]
  },
  {
   "cell_type": "code",
   "execution_count": 50,
   "metadata": {},
   "outputs": [
    {
     "name": "stdout",
     "output_type": "stream",
     "text": [
      "Enter your name: saeed\n",
      "Enter phone number: 0191912\n",
      "Invalid phome number!\n",
      "Enter phone number: asdasd\n",
      "Invalid phome number!\n",
      "Enter phone number: 09199193216\n",
      "Enter email id: asdjfbsdkajf\n",
      "Invalid enail id!\n",
      "Enter email id: kjksdvsdaf\n",
      "Invalid enail id!\n",
      "Enter email id: m.saeed1024@yahoo.com\n"
     ]
    },
    {
     "data": {
      "text/plain": [
       "{'saeed': ('09199193216', 'm.saeed1024@yahoo.com')}"
      ]
     },
     "execution_count": 50,
     "metadata": {},
     "output_type": "execute_result"
    }
   ],
   "source": [
    "# Contact\n",
    "\n",
    "def contact():\n",
    "    contact = {}\n",
    "    \n",
    "    name  = input('Enter your name: ')\n",
    "    \n",
    "    #09199193216\n",
    "    phone = input('Enter phone number: ')\n",
    "    \n",
    "    while len(phone) != 11 or not phone.isdigit():\n",
    "        print('Invalid phome number!')\n",
    "        phone = input('Enter phone number: ')\n",
    "    \n",
    "    email = input('Enter email id: ')\n",
    "    \n",
    "    while email.find('@') == -1:\n",
    "        print('Invalid enail id!')\n",
    "        email = input('Enter email id: ')\n",
    "    \n",
    "    \n",
    "    contact[name] = phone, email\n",
    "    return contact\n",
    "\n",
    "contact()"
   ]
  },
  {
   "cell_type": "code",
   "execution_count": 53,
   "metadata": {},
   "outputs": [
    {
     "data": {
      "text/plain": [
       "True"
      ]
     },
     "execution_count": 53,
     "metadata": {},
     "output_type": "execute_result"
    }
   ],
   "source": [
    "s = '123456'\n",
    "s.isdigit()"
   ]
  },
  {
   "cell_type": "code",
   "execution_count": 54,
   "metadata": {},
   "outputs": [
    {
     "name": "stdout",
     "output_type": "stream",
     "text": [
      "Enter your name: saeed\n",
      "Enter phone number: 019991913216\n",
      "Invalid phome number!\n",
      "Enter phone number: m.saeed1024@yahoo.com\n",
      "Invalid phome number!\n",
      "Enter phone number: 019991913216\n",
      "Invalid phome number!\n",
      "Enter phone number: 09199193216\n",
      "Enter email id: m.saeed1024@yahoo.com\n",
      "Enter your name: javad\n",
      "Enter phone number: 09199193213\n",
      "Enter email id: javad@ gamil.com\n",
      "Enter your name: end\n"
     ]
    },
    {
     "data": {
      "text/plain": [
       "{'saeed': ('09199193216', 'm.saeed1024@yahoo.com'),\n",
       " 'javad': ('09199193213', 'javad@ gamil.com')}"
      ]
     },
     "execution_count": 54,
     "metadata": {},
     "output_type": "execute_result"
    }
   ],
   "source": [
    "# Contact\n",
    "\n",
    "def contact():\n",
    "    contact = {}\n",
    "    \n",
    "    \n",
    "    while True:                                # new\n",
    "        name  = input('Enter your name: ')\n",
    "        \n",
    "        if name == 'end':                      # new\n",
    "            break                              # new\n",
    "        \n",
    "        #09199193216\n",
    "        phone = input('Enter phone number: ')\n",
    "        \n",
    "        while len(phone) != 11 or not phone.isdigit():\n",
    "            print('Invalid phome number!')\n",
    "            phone = input('Enter phone number: ')\n",
    "        \n",
    "        email = input('Enter email id: ')\n",
    "        \n",
    "        while email.find('@') == -1:\n",
    "            print('Invalid enail id!')\n",
    "            email = input('Enter email id: ')\n",
    "        \n",
    "        \n",
    "        contact[name] = phone, email\n",
    "    return contact\n",
    "\n",
    "contact()"
   ]
  },
  {
   "cell_type": "code",
   "execution_count": 58,
   "metadata": {},
   "outputs": [
    {
     "data": {
      "text/plain": [
       "-1"
      ]
     },
     "execution_count": 58,
     "metadata": {},
     "output_type": "execute_result"
    }
   ],
   "source": [
    "x = 'pythoon course'\n",
    "x.find('@')"
   ]
  },
  {
   "cell_type": "code",
   "execution_count": 59,
   "metadata": {},
   "outputs": [
    {
     "name": "stdout",
     "output_type": "stream",
     "text": [
      "Enter your name: Saeed\n",
      "Enter phone number: 09199193216\n",
      "Enter email id: m.saeed1024@yahoo.com\n",
      "Enter your name: Javad\n",
      "Enter phone number: 09199193213\n",
      "Enter email id: javad@gmail.com\n",
      "Enter your name: end\n"
     ]
    },
    {
     "data": {
      "text/plain": [
       "{'Saeed': ('09199193216', 'm.saeed1024@yahoo.com'),\n",
       " 'Javad': ('09199193213', 'javad@gmail.com')}"
      ]
     },
     "execution_count": 59,
     "metadata": {},
     "output_type": "execute_result"
    }
   ],
   "source": [
    "cont = contact()\n",
    "cont"
   ]
  },
  {
   "cell_type": "code",
   "execution_count": 61,
   "metadata": {},
   "outputs": [
    {
     "data": {
      "text/plain": [
       "('09199193213', 'javad@gmail.com')"
      ]
     },
     "execution_count": 61,
     "metadata": {},
     "output_type": "execute_result"
    }
   ],
   "source": [
    "cont['Javad']"
   ]
  },
  {
   "cell_type": "code",
   "execution_count": 62,
   "metadata": {},
   "outputs": [
    {
     "data": {
      "text/plain": [
       "('09199193216', 'm.saeed1024@yahoo.com')"
      ]
     },
     "execution_count": 62,
     "metadata": {},
     "output_type": "execute_result"
    }
   ],
   "source": [
    "cont['Saeed']"
   ]
  },
  {
   "cell_type": "code",
   "execution_count": 63,
   "metadata": {},
   "outputs": [
    {
     "name": "stdout",
     "output_type": "stream",
     "text": [
      "Saeed\n",
      "Javad\n"
     ]
    }
   ],
   "source": [
    "for i in cont:\n",
    "    print(i)"
   ]
  },
  {
   "cell_type": "code",
   "execution_count": 65,
   "metadata": {},
   "outputs": [
    {
     "name": "stdout",
     "output_type": "stream",
     "text": [
      "Saeed\n",
      "('09199193216', 'm.saeed1024@yahoo.com')\n",
      "Javad\n",
      "('09199193213', 'javad@gmail.com')\n"
     ]
    }
   ],
   "source": [
    "for i in cont:\n",
    "    print(i)\n",
    "    print(cont.get(i))"
   ]
  },
  {
   "cell_type": "code",
   "execution_count": null,
   "metadata": {},
   "outputs": [],
   "source": []
  },
  {
   "cell_type": "markdown",
   "metadata": {},
   "source": [
    "### lambda"
   ]
  },
  {
   "cell_type": "code",
   "execution_count": 66,
   "metadata": {},
   "outputs": [],
   "source": [
    "m = lambda x, y, z : (x+y+z)/3"
   ]
  },
  {
   "cell_type": "code",
   "execution_count": 67,
   "metadata": {},
   "outputs": [
    {
     "data": {
      "text/plain": [
       "11.333333333333334"
      ]
     },
     "execution_count": 67,
     "metadata": {},
     "output_type": "execute_result"
    }
   ],
   "source": [
    "m(12,45,-23)"
   ]
  },
  {
   "cell_type": "code",
   "execution_count": null,
   "metadata": {},
   "outputs": [],
   "source": []
  },
  {
   "cell_type": "markdown",
   "metadata": {},
   "source": [
    "### - Diffrence between return and print:"
   ]
  },
  {
   "cell_type": "code",
   "execution_count": 78,
   "metadata": {
    "scrolled": true
   },
   "outputs": [
    {
     "name": "stdout",
     "output_type": "stream",
     "text": [
      "3\n",
      "---------\n",
      "3\n",
      "5\n",
      "None\n",
      "***********\n",
      "3\n",
      "5\n",
      "10\n",
      "_*_*_*_*_*\n"
     ]
    }
   ],
   "source": [
    "def fun1(x1):\n",
    "    x1 = x1 + 2\n",
    "    print(x1)\n",
    "    \n",
    "def fun2(x1):\n",
    "    return x1 + 2\n",
    "\n",
    "x1 = 3\n",
    "\n",
    "print(x1)\n",
    "print('---------')\n",
    "\n",
    "print(x1)\n",
    "print(fun1(x1))\n",
    "#print(fun1(x1)*2)\n",
    "print('***********')\n",
    "\n",
    "\n",
    "print(x1)\n",
    "print(fun2(x1))\n",
    "print(fun2(x1)*2)\n",
    "\n",
    "print('_*_*_*_*_*')"
   ]
  },
  {
   "cell_type": "code",
   "execution_count": null,
   "metadata": {},
   "outputs": [],
   "source": []
  },
  {
   "cell_type": "code",
   "execution_count": null,
   "metadata": {},
   "outputs": [],
   "source": []
  },
  {
   "cell_type": "code",
   "execution_count": null,
   "metadata": {},
   "outputs": [],
   "source": []
  },
  {
   "cell_type": "code",
   "execution_count": null,
   "metadata": {},
   "outputs": [],
   "source": []
  },
  {
   "cell_type": "code",
   "execution_count": null,
   "metadata": {},
   "outputs": [],
   "source": []
  }
 ],
 "metadata": {
  "kernelspec": {
   "display_name": "Python 3",
   "language": "python",
   "name": "python3"
  },
  "language_info": {
   "codemirror_mode": {
    "name": "ipython",
    "version": 3
   },
   "file_extension": ".py",
   "mimetype": "text/x-python",
   "name": "python",
   "nbconvert_exporter": "python",
   "pygments_lexer": "ipython3",
   "version": "3.8.8"
  }
 },
 "nbformat": 4,
 "nbformat_minor": 4
}
